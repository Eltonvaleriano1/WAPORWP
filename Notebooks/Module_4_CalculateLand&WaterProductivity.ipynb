{
 "cells": [
  {
   "cell_type": "markdown",
   "metadata": {},
   "source": [
    "## Module 4 - In this jupyter notebook, land and water productivity are calculated \n",
    "* Step 4a - Set up\n",
    "* Step 4b - Calculate land productivity: i) biomass and ii) crop yield  \n",
    "* Step 4c - Calculate productivity: i) biomass water productivity and ii) crop water productivity\n",
    "**=====================================================================================================================**\n",
    "\n",
    "![title](img/Fig4_1.png)\n",
    "\n",
    "**=====================================================================================================================**"
   ]
  },
  {
   "cell_type": "markdown",
   "metadata": {},
   "source": [
    "## Step 4a - Setu up"
   ]
  },
  {
   "cell_type": "markdown",
   "metadata": {},
   "source": [
    "## i) Import packages/libraries"
   ]
  },
  {
   "cell_type": "code",
   "execution_count": 1,
   "metadata": {},
   "outputs": [],
   "source": [
    "import os\n",
    "import sys\n",
    "import glob\n",
    "\n",
    "import numpy as np\n",
    "from matplotlib import pyplot as plt\n",
    "\n",
    "# change the directory to where the modules are saved\n",
    "os.chdir(os.path.join(os.path.split(os.getcwd())[0], \"Modules\"))\n",
    "from GIS_functions import GIS_function as gis"
   ]
  },
  {
   "cell_type": "markdown",
   "metadata": {},
   "source": [
    "## Step 4b - Calculate land productivity\n",
    "* i) Biomass\n",
    "* ii) Crop yield"
   ]
  },
  {
   "cell_type": "markdown",
   "metadata": {},
   "source": [
    "## i) Calculate biomass\n",
    "$Biomass   = AOT*f_c*\\frac{NPP*22.222}{1-mc}$\n",
    "<br/>where AOT is the above ground over total biomass production ration (-), fc is the light use efficiency correction factor[-]. NPP is seasonal net primary production in gC/m²/season, mc is moisture content in the fresh biomass [-] and HI is harvest index"
   ]
  },
  {
   "cell_type": "markdown",
   "metadata": {},
   "source": [
    "## * Import seasonal NPP raster data"
   ]
  },
  {
   "cell_type": "code",
   "execution_count": 2,
   "metadata": {},
   "outputs": [],
   "source": [
    "dir_proj = os.path.split(os.getcwd())[0]  # os.getcwd() is for the current directory\n",
    "dir_data = \"Data\"\n",
    "\n",
    "input_folderNPP = os.path.join(dir_proj, dir_data, \"2L2_NPP_season\") \n",
    "input_fhsNPP    = glob.glob(input_folderNPP + '\\*.tif')\n",
    "input_fhsNPP"
   ]
  },
  {
   "cell_type": "markdown",
   "metadata": {},
   "source": [
    "## ** Crop parameters\n",
    "![title](img/Fig4_2.png)"
   ]
  },
  {
   "cell_type": "code",
   "execution_count": 3,
   "metadata": {},
   "outputs": [],
   "source": [
    "# Update the crop parameters specic to the crop\n",
    "MC = 0.7  # moisture content, dry matter over freshbiomass\n",
    "fc = 1.6  # Light use efficiency correction factor\n",
    "AOT= 0.8  # above ground over total biomass production ratio(AOT)"
   ]
  },
  {
   "cell_type": "markdown",
   "metadata": {},
   "source": [
    "## *** Output folder for the biomass layer: Make one or connect to the existing one"
   ]
  },
  {
   "cell_type": "code",
   "execution_count": 4,
   "metadata": {},
   "outputs": [],
   "source": [
    "dir_proj = os.path.split(os.getcwd())[0]   \n",
    "dir_data = \"Data\"\n",
    "\n",
    "output_folderBM = os.path.join(dir_proj, dir_data, \"4L2_Biomass\") \n",
    "\n",
    "# if the directory and folder does not exit, make one\n",
    "if not os.path.exists(output_folderBM):\n",
    "    os.makedirs(output_folderBM) \n",
    "output_folderBM"
   ]
  },
  {
   "cell_type": "markdown",
   "metadata": {},
   "source": [
    "## **** Calculate above ground biomass (AGBM)"
   ]
  },
  {
   "cell_type": "code",
   "execution_count": 5,
   "metadata": {
    "scrolled": false
   },
   "outputs": [],
   "source": [
    "# collecting Geoinfo such as projection, the x and y axis\n",
    "in_fh = input_fhsNPP[0]      \n",
    "driver, NDV, xsize, ysize, GeoT, Projection = gis.GetGeoInfo(in_fh)\n",
    "spatial_extent = (GeoT[0], GeoT[0] + GeoT[1] * xsize, GeoT[3] + GeoT[5] * ysize, GeoT[3])  # get spatial extent of raster\n",
    "\n",
    "year = 2009\n",
    "for in_fhNPP in input_fhsNPP:\n",
    "    NPP  = gis.OpenAsArray(in_fhNPP, nan_values=True)  \n",
    "    AGBM = (AOT * fc * (NPP * 22.222 / (1 - MC))) / 1000  # Above ground biomass, 1000 is to covert from kg to ton  \n",
    "    \n",
    "    \n",
    "    # Identify the date from the file name\n",
    "    date  = os.path.basename(in_fhNPP).split('.')[0].replace('NPP', '').replace('_', ' ')\n",
    "                             \n",
    "    # save into output folder\n",
    "    output_folder = output_folderBM                 \n",
    "    basename      = os.path.basename(in_fhNPP).replace('NPP', 'AGBM')                   \n",
    "    output_fn     = os.path.join(output_folder,basename)                   \n",
    "    gis.CreateGeoTiff(output_fn, AGBM, driver, NDV, xsize, ysize, GeoT, Projection) \n",
    "                             \n",
    "    \n",
    "    # Plot the raster map\n",
    "    seasonal = AGBM\n",
    "    \n",
    "    # calculate the mean, SD\n",
    "    print ('the mean & SD for ',date, '=', np.nanmean(seasonal).round(1),'&',np.nanstd(seasonal).round(1))\n",
    "\n",
    "    \n",
    "    plt.figure(figsize = (12,8))\n",
    "    plt.imshow(seasonal, cmap='RdYlGn', vmin=np.nanmin(seasonal), vmax=np.nanmax(seasonal), extent=spatial_extent)\n",
    "    plt.colorbar(shrink=0.75, label='Above ground biomass [ton/ha/season]')\n",
    "    plt.xlabel('Longitude ($^{\\circ}$ East)', fontsize=12)  # add axes label\n",
    "    plt.ylabel('Latitude ($^{\\circ}$ North)', fontsize=12)\n",
    "    plt.title('Above ground biomass [ton/ha/season] ' + date)\n",
    "    plt.clim(30,80)\n",
    "    plt.show ()\n",
    "\n",
    "    year += 1\n",
    "                             "
   ]
  },
  {
   "cell_type": "markdown",
   "metadata": {},
   "source": [
    "## ii) Calculate crop yield\n",
    "* $Crop yield = HI*B$\n",
    "* where HI is harvest index, and B (or AGBM) is above ground biomass"
   ]
  },
  {
   "cell_type": "markdown",
   "metadata": {},
   "source": [
    "## * Import the input raster data"
   ]
  },
  {
   "cell_type": "code",
   "execution_count": 6,
   "metadata": {},
   "outputs": [],
   "source": [
    "dir_proj = os.path.split(os.getcwd())[0]  \n",
    "dir_data = \"Data\"\n",
    "\n",
    "input_folder  = os.path.join(dir_proj, dir_data, \"4L2_Biomass\") \n",
    "input_fhsAGBM = glob.glob(input_folder + '\\*.tif')\n",
    "input_fhsAGBM"
   ]
  },
  {
   "cell_type": "markdown",
   "metadata": {},
   "source": [
    "## ** Update the Harvest index"
   ]
  },
  {
   "cell_type": "code",
   "execution_count": 7,
   "metadata": {},
   "outputs": [],
   "source": [
    "HI = 1     # harvest index of the crop"
   ]
  },
  {
   "cell_type": "markdown",
   "metadata": {},
   "source": [
    "## *** Output folder for the crop yield layer: Make one or connect to the existing one"
   ]
  },
  {
   "cell_type": "code",
   "execution_count": 8,
   "metadata": {},
   "outputs": [],
   "source": [
    "dir_proj = os.path.split(os.getcwd())[0]   \n",
    "dir_data = \"Data\"\n",
    "\n",
    "output_folderY = os.path.join(dir_proj, dir_data, \"4L2_Yield\") \n",
    "\n",
    "# if the directory and folder does not exit, make one\n",
    "if not os.path.exists(output_folderY):\n",
    "    os.makedirs(output_folderY) \n",
    "output_folderY"
   ]
  },
  {
   "cell_type": "markdown",
   "metadata": {},
   "source": [
    "## **** Calculate crop yield"
   ]
  },
  {
   "cell_type": "code",
   "execution_count": 9,
   "metadata": {
    "scrolled": false
   },
   "outputs": [],
   "source": [
    "# collecting Geoinfo such as projection, the x and y axis\n",
    "in_fh = input_fhsAGBM[0]      \n",
    "driver, NDV, xsize, ysize, GeoT, Projection = gis.GetGeoInfo(in_fh)\n",
    "spatial_extent = (GeoT[0], GeoT[0] + GeoT[1] * xsize, GeoT[3] + GeoT[5] * ysize, GeoT[3])  # get spatial extent of raster\n",
    "\n",
    "for in_fhAGBM in input_fhsAGBM:\n",
    "    AGBM      = gis.OpenAsArray(in_fhAGBM, nan_values=True)  \n",
    "    CropYield = HI*AGBM  \n",
    "        \n",
    "    # Identify the date from the file name\n",
    "    date  = os.path.basename(in_fhAGBM).split('.')[0].replace('AGBM', '').replace('_', ' ')\n",
    "                             \n",
    "    # save into output folder\n",
    "    output_folder = output_folderY                 \n",
    "    basename      = os.path.basename(in_fhAGBM).replace('AGBM', 'Yield')                   \n",
    "    output_fn     = os.path.join(output_folder,basename)                   \n",
    "    gis.CreateGeoTiff(output_fn, CropYield, driver, NDV, xsize, ysize, GeoT, Projection) \n",
    "                             \n",
    "    # Plot the raster map\n",
    "    seasonal = CropYield\n",
    "       \n",
    "    # calculate the mean, SD\n",
    "    print ('the mean & SD for ',date, '=', np.nanmean(seasonal).round(1),'&',np.nanstd(seasonal).round(1))\n",
    "    \n",
    "    plt.figure(figsize = (12,8))\n",
    "    plt.imshow(seasonal, cmap='RdYlGn', vmin=np.nanmin(seasonal), vmax=np.nanmax(seasonal), extent=spatial_extent)\n",
    "    plt.colorbar(shrink=0.75, label='Crop yield [ton/ha/season]')\n",
    "    plt.xlabel('Longitude ($^{\\circ}$ East)', fontsize=12)  # add axes label\n",
    "    plt.ylabel('Latitude ($^{\\circ}$ North)', fontsize=12)\n",
    "    plt.title('Crop yield [ton/ha/season] ' + date)\n",
    "    plt.clim()\n",
    "    plt.show ()\n",
    "\n",
    "    year += 1\n",
    "    ;                             "
   ]
  },
  {
   "cell_type": "markdown",
   "metadata": {},
   "source": [
    "## Step 4c - Calculate water productivity (WP)"
   ]
  },
  {
   "cell_type": "markdown",
   "metadata": {},
   "source": [
    "## i) Calculate biomass water productivity \n",
    "$Biomass WP= \\frac{Biomass}{ET_a}$"
   ]
  },
  {
   "cell_type": "markdown",
   "metadata": {},
   "source": [
    "## * Import the input raster data"
   ]
  },
  {
   "cell_type": "code",
   "execution_count": 10,
   "metadata": {},
   "outputs": [],
   "source": [
    "dir_proj = os.path.split(os.getcwd())[0]  \n",
    "dir_data = \"Data\"\n",
    "\n",
    "input_folder1  = os.path.join(dir_proj, dir_data, \"2L2_AETI_season\") \n",
    "input_fhsET = glob.glob(input_folder1 + '\\*.tif')\n",
    "input_folder2  = os.path.join(dir_proj, dir_data, \"4L2_Biomass\") \n",
    "input_fhsAGBM = glob.glob(input_folder2 + '\\*.tif')\n",
    "input_fhsET[0], input_fhsAGBM[0]"
   ]
  },
  {
   "cell_type": "markdown",
   "metadata": {},
   "source": [
    "## ** Output folder for the WPb layer: Make one or connect to the existing one"
   ]
  },
  {
   "cell_type": "code",
   "execution_count": 11,
   "metadata": {},
   "outputs": [],
   "source": [
    "dir_proj = os.path.split(os.getcwd())[0]   \n",
    "dir_data = \"Data\"\n",
    "\n",
    "output_folderWPb = os.path.join(dir_proj, dir_data, \"4L2_WPb\") \n",
    "\n",
    "# if the directory and folder does not exit, make one\n",
    "if not os.path.exists(output_folderWPb):\n",
    "    os.makedirs(output_folderWPb) \n",
    "output_folderWPb"
   ]
  },
  {
   "cell_type": "markdown",
   "metadata": {},
   "source": [
    "## **** Calculate biomass water productivity (WPb)"
   ]
  },
  {
   "cell_type": "code",
   "execution_count": 12,
   "metadata": {
    "scrolled": false
   },
   "outputs": [],
   "source": [
    "# collecting Geoinfo such as projection, the x and y axis\n",
    "in_fh = input_fhsET[0]\n",
    "driver, NDV, xsize, ysize, GeoT, Projection = gis.GetGeoInfo(in_fh)\n",
    "spatial_extent = (GeoT[0], GeoT[0] + GeoT[1] * xsize, GeoT[3] + GeoT[5] * ysize, GeoT[3])  # get spatial extent of raster\n",
    "\n",
    "## Calculate the WP\n",
    "for in_fhET, in_fhAGBM in zip(input_fhsET, input_fhsAGBM):\n",
    "    AETI = gis.OpenAsArray(in_fhET, nan_values=True) \n",
    "    AGBM = gis.OpenAsArray(in_fhAGBM, nan_values=True)\n",
    "    WPb  = AGBM/AETI*100\n",
    "    \n",
    "    # Identify the date from the file name\n",
    "    date  = os.path.basename(in_fhET).split('.')[0].replace('AETI', '').replace('_', ' ')\n",
    "    \n",
    "    # save into output folder\n",
    "    output_folder = output_folderWPb\n",
    "    basename      = os.path.basename(in_fhET).replace('AETI', 'WPb')\n",
    "    output_fn     = os.path.join(output_folder, basename)\n",
    "    gis.CreateGeoTiff(output_fn, WPb, driver, NDV, xsize, ysize, GeoT, Projection) \n",
    "        \n",
    "    # Plot the raster map\n",
    "    seasonal = WPb\n",
    "    \n",
    "    # calculate the mean, SD\n",
    "    print ('the mean & SD for ',date, '=', np.nanmean(seasonal).round(1),'&',np.nanstd(seasonal).round(1))\n",
    "    \n",
    "    plt.figure(figsize = (12,8))\n",
    "    plt.imshow(seasonal, cmap='RdYlGn', vmin=np.nanmin(seasonal), vmax=np.nanmax(seasonal), extent=spatial_extent)\n",
    "    plt.colorbar(shrink=0.75, label='WPb [kg/m3]')\n",
    "    plt.xlabel('Longitude ($^{\\circ}$ East)', fontsize=12)  # add axes label\n",
    "    plt.ylabel('Latitude ($^{\\circ}$ North)', fontsize=12)\n",
    "    plt.title('Biomass water productivity [kg/m3] ' + date)\n",
    "    plt.clim(2,6)\n",
    "    plt.show ()\n",
    "    \n",
    "    year += 1   \n",
    "    ;"
   ]
  },
  {
   "cell_type": "markdown",
   "metadata": {},
   "source": [
    "## ii) Calculate crop water productivity \n",
    "$Crop WP = \\frac{CropYield}{ET_a}$"
   ]
  },
  {
   "cell_type": "markdown",
   "metadata": {},
   "source": [
    "## * Import the input raster data"
   ]
  },
  {
   "cell_type": "code",
   "execution_count": 13,
   "metadata": {},
   "outputs": [],
   "source": [
    "dir_proj = os.path.split(os.getcwd())[0]  \n",
    "dir_data = \"Data\"\n",
    "\n",
    "input_folder1  = os.path.join(dir_proj, dir_data, \"2L2_AETI_season\") \n",
    "input_fhsET    = glob.glob(input_folder1 + '\\*.tif')\n",
    "input_folder2  = os.path.join(dir_proj, dir_data, \"4L2_Yield\") \n",
    "input_fhsY     = glob.glob(input_folder2 + '\\*.tif')\n",
    "input_fhsET[0], input_fhsY[0]"
   ]
  },
  {
   "cell_type": "markdown",
   "metadata": {},
   "source": [
    "## ** Output folder for the WPb layer: Make one or connect to the existing one"
   ]
  },
  {
   "cell_type": "code",
   "execution_count": 14,
   "metadata": {},
   "outputs": [],
   "source": [
    "dir_proj = os.path.split(os.getcwd())[0]   \n",
    "dir_data = \"Data\"\n",
    "\n",
    "output_folderWPy = os.path.join(dir_proj, dir_data, \"4L2_WPy\") \n",
    "\n",
    "# if the directory and folder does not exit, make one\n",
    "if not os.path.exists(output_folderWPy):\n",
    "    os.makedirs(output_folderWPy) \n",
    "output_folderWPy"
   ]
  },
  {
   "cell_type": "markdown",
   "metadata": {},
   "source": [
    "## **** Calculate biomass water productivity (WPb)"
   ]
  },
  {
   "cell_type": "code",
   "execution_count": 15,
   "metadata": {
    "scrolled": false
   },
   "outputs": [],
   "source": [
    "# collecting Geoinfo such as projection, the x and y axis\n",
    "in_fh = input_fhsET[0]\n",
    "driver, NDV, xsize, ysize, GeoT, Projection = gis.GetGeoInfo(in_fh)\n",
    "spatial_extent = (GeoT[0], GeoT[0] + GeoT[1] * xsize, GeoT[3] + GeoT[5] * ysize, GeoT[3])  # get spatial extent of raster\n",
    "\n",
    "## Calculate the WP\n",
    "for in_fhET, in_fhY in zip(input_fhsET, input_fhsY):\n",
    "    AETI  = gis.OpenAsArray(in_fhET, nan_values=True) \n",
    "    Yield = gis.OpenAsArray(in_fhY, nan_values=True)\n",
    "    WPy   = Yield/AETI*100\n",
    "\n",
    "    # Identify the date from the file name\n",
    "    date  = os.path.basename(in_fhET).split('.')[0].replace('AETI', '').replace('_', ' ')\n",
    "\n",
    "    # save into output folder\n",
    "    output_folder = output_folderWPy\n",
    "    basename      = os.path.basename(in_fhET).replace('AETI', 'WPy')\n",
    "    output_fn     = os.path.join(output_folder, basename)\n",
    "    gis.CreateGeoTiff(output_fn, WPy, driver, NDV, xsize, ysize, GeoT, Projection) \n",
    "\n",
    "    # Plot the raster map\n",
    "    seasonal = WPy\n",
    "    \n",
    "    # calculate the mean, SD\n",
    "    print ('the mean & SD for ',date, '=', np.nanmean(seasonal).round(1),'&',np.nanstd(seasonal).round(1))\n",
    "\n",
    "    plt.figure(figsize = (12,8))\n",
    "    plt.imshow(seasonal, cmap='RdYlGn', vmin=np.nanmin(seasonal), vmax=np.nanmax(seasonal), extent=spatial_extent)\n",
    "    plt.colorbar(shrink=0.75, label='Crop water productivity [kg/m3]')\n",
    "    plt.xlabel('Longitude ($^{\\circ}$ East)', fontsize=12)  # add axes label\n",
    "    plt.ylabel('Latitude ($^{\\circ}$ North)', fontsize=12)\n",
    "    plt.title('Crop water productivity [kg/m3] ' + date)\n",
    "    plt.clim(2,6)\n",
    "    plt.show ()\n",
    "\n",
    "    year += 1   \n",
    "    ;"
   ]
  }
 ],
 "metadata": {
  "kernelspec": {
   "display_name": "Python 3",
   "language": "python",
   "name": "python3"
  },
  "language_info": {
   "codemirror_mode": {
    "name": "ipython",
    "version": 3
   },
   "file_extension": ".py",
   "mimetype": "text/x-python",
   "name": "python",
   "nbconvert_exporter": "python",
   "pygments_lexer": "ipython3",
   "version": "3.7.3"
  }
 },
 "nbformat": 4,
 "nbformat_minor": 2
}
