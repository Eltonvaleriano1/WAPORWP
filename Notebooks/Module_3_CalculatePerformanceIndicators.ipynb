{
 "cells": [
  {
   "cell_type": "markdown",
   "metadata": {},
   "source": [
    "## Module 3 - In this jupyter notebook, perfomance indicators are calculated \n",
    "* Step 3a - Set up: Import modules/libraries, inport data, create output folder\n",
    "* Step 3b - Calculate uniformity\n",
    "* Step 3c - Calculate efficiency (beneficial fraction)\n",
    "* Step 3d - Calculate adquacy\n",
    "* Step 3e - Calculate relative water deficit \n",
    "**=====================================================================================================================**\n",
    "\n",
    "![title](img/Fig3_1.png)\n",
    "\n",
    "**=====================================================================================================================**\n",
    "#### <span style='background :lightgreen' > References:\n",
    "* Karimi, P., Bongani, B., Blatchford, M., and de Fraiture, C.: Global satellite-based ET products for the local level irrigation management: An application of irrigation performance assessment in the sugarbelt of Swaziland, Remote Sensing, 11, 705, 2019.\n",
    "* Bastiaanssen, W. G., and Bos, M.: Irrigation performance indicators based on remotely sensed data: a review of literature, Irrigation and drainage systems, 13, 291-311, 1999.\n",
    "* Bastiaanssen, W. G., Van der Wal, T., and Visser, T.: Diagnosis of regional evaporation by remote sensing to support irrigation performance assessment, Irrigation and Drainage Systems, 10, 1-23, 1996."
   ]
  },
  {
   "cell_type": "markdown",
   "metadata": {},
   "source": [
    "## Step 3a - Set up"
   ]
  },
  {
   "cell_type": "markdown",
   "metadata": {},
   "source": [
    "## i) Import packages/libraries"
   ]
  },
  {
   "cell_type": "code",
   "execution_count": 1,
   "metadata": {},
   "outputs": [],
   "source": [
    "import os\n",
    "import sys\n",
    "import glob\n",
    "\n",
    "import pandas as pd\n",
    "import numpy as np\n",
    "from matplotlib import pyplot as plt\n",
    "\n",
    "# change the directory to where the modules are saved\n",
    "os.chdir(os.path.join(os.path.split(os.getcwd())[0], \"Modules\"))\n",
    "from GIS_functions import GIS_function as gis"
   ]
  },
  {
   "cell_type": "markdown",
   "metadata": {},
   "source": [
    "## ii) Import the input data\n",
    "* Seasonal T, AETI, ETp "
   ]
  },
  {
   "cell_type": "code",
   "execution_count": 2,
   "metadata": {},
   "outputs": [],
   "source": [
    "# get seasonal data\n",
    "T_fhs    = glob.glob(r'..\\Data\\2L2_T_season\\*.tif')\n",
    "AETI_fhs = glob.glob(r'..\\Data\\2L2_AETI_season\\*.tif')\n",
    "ETp_fhs  = glob.glob(r'..\\Data\\2L1_ETc_season\\*.tif')"
   ]
  },
  {
   "cell_type": "markdown",
   "metadata": {},
   "source": [
    "## iii) Output folder: Make one or connect to the existing one"
   ]
  },
  {
   "cell_type": "code",
   "execution_count": 3,
   "metadata": {},
   "outputs": [],
   "source": [
    "# output_folder\n",
    "output_folderBF = r'..\\Data\\3_BeneficialFraction'  # create output folder\n",
    "output_folderAd = r'..\\Data\\3_Adequacy'  # create output folder\n",
    "\n",
    "# Make one if the folder does not exit\n",
    "if not os.path.exists(output_folderBF):\n",
    "    os.makedirs(output_folderBF)\n",
    "if not os.path.exists(output_folderAd):\n",
    "    os.makedirs(output_folderAd)"
   ]
  },
  {
   "cell_type": "markdown",
   "metadata": {},
   "source": [
    "## Step 3b - Calculate uniformity of water consumption\n",
    "* Equity is defined as the coefficients of variation (CV) of seasonal ETa in the area of interest.\n",
    "* It measures the evenness of the water supply in an irrigation scheme. \n",
    "* Note: CV of 0 to 10% is good, 10 to 25% is fair and CV > 25% is poor uniformity (Bastiaanssen et al., 1996) \n",
    "<br/>"
   ]
  },
  {
   "cell_type": "code",
   "execution_count": 4,
   "metadata": {},
   "outputs": [],
   "source": [
    "# Uniformity of water Consumption \n",
    "# get seasonal AETI\n",
    "# AETI_fhs = glob.glob(r'..\\Data\\2L2_AETI_season\\*.tif') \n",
    "\n",
    "for i in range(len(AETI_fhs)):\n",
    "    AETI = gis.OpenAsArray(AETI_fhs[i], nan_values=True)\n",
    "    \n",
    "    AETIm   = np.nanmean(AETI)\n",
    "    AETIsd  = np.nanstd(AETI)\n",
    "    \n",
    "    CV_AETI = (AETIsd / AETIm) * 100\n",
    "    \n",
    "    # Identify the date from the file name\n",
    "    date  = os.path.basename(AETI_fhs[i]).split('.')[0].replace('AETI', '').replace('_', ' ') \n",
    "    \n",
    "    if CV_AETI < 10:\n",
    "        U = 'Good Uniformity'\n",
    "    if (CV_AETI >= 10) and (CV_AETI < 25):\n",
    "        U = 'Fair Uniformity'\n",
    "    else: \n",
    "        U = 'Poor Uniformity'\n",
    "\n",
    "    print ('CV of AETI in', date, '=', round(CV_AETI, 1), ',', U)"
   ]
  },
  {
   "cell_type": "markdown",
   "metadata": {},
   "source": [
    "## Step 3c - Calculate efficiency (beneficial fraction)\n",
    "* Beneficial fraction is the ratio of the water that is consumed as transpiration compared to overall field water consumption (ETa). \n",
    "* $Beneficial fraction = \\frac{T_a}{ET_a}$\n",
    "* It is a measure of the efficiency of on farm water and agronomic practices in use of water for crop growth."
   ]
  },
  {
   "cell_type": "code",
   "execution_count": 5,
   "metadata": {},
   "outputs": [],
   "source": [
    "date  = os.path.basename(ETfh).split('.')[0].replace('AETI', '').replace('_', ' ') \n",
    "date"
   ]
  },
  {
   "cell_type": "code",
   "execution_count": 6,
   "metadata": {
    "scrolled": false
   },
   "outputs": [],
   "source": [
    "# collecting Geoinfo such as projection, the x and y axis\n",
    "in_fh = AETI_fhs[0]      \n",
    "driver, NDV, xsize, ysize, GeoT, Projection = gis.GetGeoInfo(in_fh)\n",
    "spatial_extent = (GeoT[0], GeoT[0] + GeoT[1] * xsize, GeoT[3] + GeoT[5] * ysize, GeoT[3])  # get spatial extent of raster\n",
    "  \n",
    "for Tfh, ETfh in zip(T_fhs, AETI_fhs):\n",
    "    T    = gis.OpenAsArray(Tfh,  nan_values=True)\n",
    "    AETI = gis.OpenAsArray(ETfh, nan_values=True)\n",
    "    \n",
    "    T_over_AETI = T/AETI\n",
    "    \n",
    "    # Identify the date from the file name\n",
    "    date  = os.path.basename(ETfh).split('.')[0].replace('AETI', '').replace('_', ' ') \n",
    "    \n",
    "    # update the file name, and save into output folder\n",
    "    basename  = os.path.basename(ETfh).replace('AETI', 'BF')  \n",
    "    output_fn = os.path.join(output_folderBF, basename)\n",
    "    gis.CreateGeoTiff(output_fn, T_over_AETI, driver, NDV, xsize, ysize, GeoT, Projection) \n",
    "    \n",
    "    # Plot the raster map\n",
    "    seasonal = T_over_AETI\n",
    "    \n",
    "    plt.figure(figsize = (12,8))\n",
    "    plt.imshow(seasonal, cmap='RdYlGn', vmin=np.nanmin(seasonal), vmax=np.nanmax(seasonal), extent=spatial_extent)\n",
    "    plt.colorbar(shrink=0.75, label='BF [-]')\n",
    "    plt.xlabel('Longitude ($^{\\circ}$ East)', fontsize=14)  # add axes label\n",
    "    plt.ylabel('Latitude ($^{\\circ}$ North)', fontsize=14)\n",
    "    plt.title('Beneficial fraction [-] ' + date)\n",
    "#     plt.clim(0,1)\n",
    "    plt.show ()\n",
    "\n",
    "    year += 1"
   ]
  },
  {
   "cell_type": "markdown",
   "metadata": {},
   "source": [
    "## Step 3d - Calculate adequacy (relative evapotranspiration)\n",
    "$Adequacy= \\frac{ET_a}{ET_p}$"
   ]
  },
  {
   "cell_type": "code",
   "execution_count": 7,
   "metadata": {
    "scrolled": false
   },
   "outputs": [],
   "source": [
    "## Calculate and save raster adequacy layer\n",
    "\n",
    "# collecting Geoinfo such as projection, the x and y axis\n",
    "in_fh = AETI_fhs[0]      \n",
    "driver, NDV, xsize, ysize, GeoT, Projection = gis.GetGeoInfo(in_fh)\n",
    "spatial_extent = (GeoT[0], GeoT[0] + GeoT[1] * xsize, GeoT[3] + GeoT[5] * ysize, GeoT[3])  # get spatial extent of raster\n",
    "\n",
    "for ETfh, ETpfh in zip(AETI_fhs, ETp_fhs):\n",
    "    AETI = gis.OpenAsArray(ETfh,  nan_values=True)\n",
    "    ETp  = gis.OpenAsArray(ETpfh, nan_values=True)\n",
    "    \n",
    "    ETa_by_ETp = AETI / ETp\n",
    "    \n",
    "    # Identify the date from the file name\n",
    "    date  = os.path.basename(ETfh).split('.')[0].replace('AETI', '').replace('_', ' ') \n",
    "        \n",
    "    # update the file name, and save into output folder\n",
    "    basename  = os.path.basename(ETfh).replace('AETI', 'Adequacy')\n",
    "    output_fn = os.path.join(output_folderAd, basename)\n",
    "    gis.CreateGeoTiff(output_fn, ETa_by_ETp, driver, NDV, xsize, ysize, GeoT, Projection) \n",
    "  \n",
    "    # Plot the raster map\n",
    "    seasonal = ETa_by_ETp\n",
    "    \n",
    "    plt.figure(figsize = (12,8))\n",
    "    plt.imshow(seasonal, cmap='RdYlGn', vmin=np.nanmin(seasonal), vmax=np.nanmax(seasonal), extent=spatial_extent)\n",
    "    plt.colorbar(shrink=0.75, label='Adequacy [-]')\n",
    "    plt.xlabel('Longitude ($^{\\circ}$ East)', fontsize=12)  # add axes label\n",
    "    plt.ylabel('Latitude ($^{\\circ}$ North)', fontsize=12)\n",
    "    plt.title('Adequacy [-] ' + date)\n",
    "    plt.show ()\n",
    "\n",
    "    year += 1\n",
    "    ;"
   ]
  },
  {
   "cell_type": "code",
   "execution_count": 13,
   "metadata": {},
   "outputs": [
    {
     "data": {
      "text/plain": [
       "Text(0.88, 0.9, 'Good performance')"
      ]
     },
     "execution_count": 13,
     "metadata": {},
     "output_type": "execute_result"
    },
    {
     "data": {
      "image/png": "[encoded data removed]",
      "text/plain": [
       "<Figure size 720x360 with 1 Axes>"
      ]
     },
     "metadata": {
      "needs_background": "light"
     },
     "output_type": "display_data"
    }
   ],
   "source": [
    "## Plot the adquacy\n",
    "# read inputs\n",
    "RelativeETfhs = glob.glob(r'..\\Data\\3_Adequacy\\*.tif')  # get seasonal raster data\n",
    "\n",
    "# initialize array\n",
    "ET_by_ETpotMean = []\n",
    "ET_by_ETpotStd  = []\n",
    "season = []\n",
    "\n",
    "year = 2009\n",
    "for RelativeETfh in RelativeETfhs:\n",
    "    ETbyETpot      = gis.OpenAsArray(RelativeETfh, nan_values=True)    \n",
    "    ETbyETpot_mean = np.nanmean(ETbyETpot)\n",
    "    ETbyETpot_std  = np.nanstd(ETbyETpot)\n",
    "\n",
    "    ET_by_ETpotMean.append(ETbyETpot_mean)\n",
    "    ET_by_ETpotStd.append(ETbyETpot_std)\n",
    "    \n",
    "    season.append(str(year) + '/' + str(year + 1))\n",
    "    \n",
    "    year += 1\n",
    "    \n",
    "# plot\n",
    "x = season                     \n",
    "y = ET_by_ETpotMean\n",
    "\n",
    "fig, ax = plt.subplots(figsize=(10, 5))\n",
    "ax.plot(x, y, '-')\n",
    "plt.xticks(x, x, rotation='45', fontsize=12)\n",
    "\n",
    "ax.plot(x, y, 'o', color='tab:cyan')\n",
    "ax.set_ylim(0, 1)\n",
    "ax.set_ylabel('Adequacy [-]', fontsize=12)\n",
    "\n",
    "# shade the low and high range of the adequacy mean±SD\n",
    "yl = np.array(y) - np.array(ET_by_ETpotStd)  # converting list to array\n",
    "yh = np.array(y) + np.array(ET_by_ETpotStd)\n",
    "ax.fill_between(x, yl, yh, alpha=0.1)\n",
    "\n",
    "#Plot the thresholds\n",
    "plt.axhline(y=0.68, color='r', linestyle='--') \n",
    "plt.axhline(y=0.8,  color='r', linestyle='--')\n",
    "\n",
    "plt.text(0.88, 0.5, 'Poor performance',\n",
    "         horizontalalignment='center', verticalalignment='center',\n",
    "         transform=ax.transAxes,fontsize=12,\n",
    "         bbox=dict(boxstyle=\"round\",facecolor='green', alpha=0.005))\n",
    "\n",
    "plt.text(0.88, 0.75, 'Acceptable range',\n",
    "         horizontalalignment='center', verticalalignment='center',\n",
    "         transform=ax.transAxes,fontsize=12,\n",
    "         bbox=dict(boxstyle=\"round\",facecolor='green', alpha=0.005))\n",
    "\n",
    "plt.text(0.88, 0.9, 'Good performance',\n",
    "         horizontalalignment='center', verticalalignment='center',\n",
    "         transform=ax.transAxes,fontsize=12,\n",
    "         bbox=dict(boxstyle=\"round\",facecolor='green', alpha=0.005))"
   ]
  },
  {
   "cell_type": "markdown",
   "metadata": {},
   "source": [
    "## Step 3e - Calculate Relative water Deficit (RWD)\n",
    "$RWD= 1-\\frac{ET_a}{ET_x}$\n",
    "<br/>${ET_x} = $ Can be ETp or 99 percentile of the actual evapotranspiration"
   ]
  },
  {
   "cell_type": "code",
   "execution_count": 8,
   "metadata": {
    "scrolled": false
   },
   "outputs": [],
   "source": [
    "# collecting Geoinfo such as projection, the x and y axis\n",
    "in_fh = AETI_fhs[0]      \n",
    "driver, NDV, xsize, ysize, GeoT, Projection = gis.GetGeoInfo(in_fh)\n",
    "spatial_extent = (GeoT[0], GeoT[0] + GeoT[1] * xsize, GeoT[3] + GeoT[5] * ysize, GeoT[3])  # get spatial extent of raster\n",
    "   \n",
    "for i in range(len(AETI_fhs)):\n",
    "    AETI = gis.OpenAsArray(AETI_fhs[i], nan_values=True)\n",
    "    \n",
    "    # reshape the arrays\n",
    "    AETI1_1D  = np.reshape(AETI,  AETI.shape[0]*AETI.shape[1])\n",
    "    ETx       = np.nanpercentile(AETI1_1D, 99)\n",
    "    \n",
    "    AETI_mean = np.nanmean(AETI)\n",
    "   \n",
    "    RWD = 1-(AETI_mean/ETx)\n",
    "    \n",
    "    # Identify the date from the file name\n",
    "    date  = os.path.basename(AETI_fhs[i]).split('.')[0].replace('AETI', '').replace('_', ' ') \n",
    "    \n",
    "    print ('Relative water deficit', date, '=', round(RWD, 2))\n",
    "        \n",
    "\n",
    "    year += 1\n",
    "    ;"
   ]
  }
 ],
 "metadata": {
  "kernelspec": {
   "display_name": "Python 3",
   "language": "python",
   "name": "python3"
  },
  "language_info": {
   "codemirror_mode": {
    "name": "ipython",
    "version": 3
   },
   "file_extension": ".py",
   "mimetype": "text/x-python",
   "name": "python",
   "nbconvert_exporter": "python",
   "pygments_lexer": "ipython3",
   "version": "3.7.3"
  }
 },
 "nbformat": 4,
 "nbformat_minor": 2
}
